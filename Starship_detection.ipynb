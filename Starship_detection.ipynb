{
 "cells": [
  {
   "cell_type": "code",
   "execution_count": 1,
   "metadata": {
    "colab": {
     "base_uri": "https://localhost:8080/",
     "height": 270,
     "referenced_widgets": [
      "ffd419ba8e89412590fa28e7e401d5fa",
      "d9d5aba1ea3b485e9e941e0e93628994",
      "1f88f06b911145c5837e4ed3744ba4ad",
      "3e178cb4ff9345ddb0b786d237d8546d",
      "ef4dfd672cbd4be7b513a11b7cdcd882",
      "e9cb466f7bc64879b8c3d21f2b19645e",
      "5edaa583f4a14607bd2ed7ea65b3170e",
      "c5d62b7cf9434336a984353ce40a0b34",
      "5003678f617f4796a5c9a9cd81cf652e",
      "f9fe1cb164f44ee88b309bfc99c028ba",
      "b462b408698c42fd9c0585f3c69e4fa9"
     ]
    },
    "executionInfo": {
     "elapsed": 16977,
     "status": "ok",
     "timestamp": 1628242235167,
     "user": {
      "displayName": "Дмитрий Куценко",
      "photoUrl": "",
      "userId": "04146547092238065676"
     },
     "user_tz": -300
    },
    "id": "EyqYx7UVBf57",
    "outputId": "3105be81-c1a8-426b-f94f-e0650471806e"
   },
   "outputs": [
    {
     "name": "stdout",
     "output_type": "stream",
     "text": [
      "\u001b[?25l\r",
      "\u001b[K     |███████▋                        | 10 kB 25.4 MB/s eta 0:00:01\r",
      "\u001b[K     |███████████████▏                | 20 kB 31.0 MB/s eta 0:00:01\r",
      "\u001b[K     |██████████████████████▊         | 30 kB 35.2 MB/s eta 0:00:01\r",
      "\u001b[K     |██████████████████████████████▎ | 40 kB 39.5 MB/s eta 0:00:01\r",
      "\u001b[K     |████████████████████████████████| 43 kB 2.0 MB/s \n",
      "\u001b[K     |████████████████████████████████| 170 kB 45.1 MB/s \n",
      "\u001b[K     |████████████████████████████████| 62 kB 877 kB/s \n",
      "\u001b[K     |████████████████████████████████| 209 kB 55.9 MB/s \n",
      "\u001b[K     |████████████████████████████████| 54 kB 2.2 MB/s \n",
      "\u001b[K     |████████████████████████████████| 76 kB 5.6 MB/s \n",
      "\u001b[K     |████████████████████████████████| 63 kB 1.9 MB/s \n",
      "\u001b[K     |████████████████████████████████| 51 kB 6.1 MB/s \n",
      "\u001b[31mERROR: pip's dependency resolver does not currently take into account all the packages that are installed. This behaviour is the source of the following dependency conflicts.\n",
      "google-colab 1.0.0 requires requests~=2.23.0, but you have requests 2.26.0 which is incompatible.\n",
      "datascience 0.10.6 requires folium==0.2.1, but you have folium 0.8.3 which is incompatible.\u001b[0m\n",
      "\u001b[?25h\u001b[32mAPI Key valid\u001b[0m\n",
      "\u001b[32mSaved API Key successfully!\u001b[0m\n"
     ]
    },
    {
     "data": {
      "application/vnd.jupyter.widget-view+json": {
       "model_id": "ffd419ba8e89412590fa28e7e401d5fa",
       "version_major": 2,
       "version_minor": 0
      },
      "text/plain": [
       "data.zip:   0%|          | 0.00/34.1M [00:00<?, ?B/s]"
      ]
     },
     "metadata": {
      "tags": []
     },
     "output_type": "display_data"
    }
   ],
   "source": [
    "!pip install -q aicrowd-cli\n",
    "%load_ext aicrowd.magic\n",
    "API_KEY = '' #Please enter your API Key from [https://www.aicrowd.com/participants/me]\n",
    "!aicrowd login --api-key $API_KEY\n",
    "# Downloading the Dataset\n",
    "!rm -rf data\n",
    "!mkdir data\n",
    "%aicrowd ds dl -c starship-detection -o data\n",
    "\n",
    "!unzip data/data.zip -d /content/images >> /dev/null"
   ]
  },
  {
   "cell_type": "markdown",
   "metadata": {
    "id": "Ahd2ZMYFCjrU"
   },
   "source": [
    "# Importing Libraries"
   ]
  },
  {
   "cell_type": "code",
   "execution_count": 2,
   "metadata": {
    "colab": {
     "base_uri": "https://localhost:8080/"
    },
    "executionInfo": {
     "elapsed": 9753,
     "status": "ok",
     "timestamp": 1628242244915,
     "user": {
      "displayName": "Дмитрий Куценко",
      "photoUrl": "",
      "userId": "04146547092238065676"
     },
     "user_tz": -300
    },
    "id": "zGRlOBwiS6RJ",
    "outputId": "7a19fef2-b79a-4bdd-b033-86a1e14ef023"
   },
   "outputs": [
    {
     "name": "stdout",
     "output_type": "stream",
     "text": [
      "Requirement already satisfied: opencv-python in /usr/local/lib/python3.7/dist-packages (4.1.2.30)\n",
      "Collecting opencv-python\n",
      "  Downloading opencv_python-4.5.3.56-cp37-cp37m-manylinux2014_x86_64.whl (49.9 MB)\n",
      "\u001b[K     |████████████████████████████████| 49.9 MB 38 kB/s \n",
      "\u001b[?25hRequirement already satisfied: numpy>=1.14.5 in /usr/local/lib/python3.7/dist-packages (from opencv-python) (1.19.5)\n",
      "Installing collected packages: opencv-python\n",
      "  Attempting uninstall: opencv-python\n",
      "    Found existing installation: opencv-python 4.1.2.30\n",
      "    Uninstalling opencv-python-4.1.2.30:\n",
      "      Successfully uninstalled opencv-python-4.1.2.30\n",
      "\u001b[31mERROR: pip's dependency resolver does not currently take into account all the packages that are installed. This behaviour is the source of the following dependency conflicts.\n",
      "albumentations 0.1.12 requires imgaug<0.2.7,>=0.2.5, but you have imgaug 0.2.9 which is incompatible.\u001b[0m\n",
      "Successfully installed opencv-python-4.5.3.56\n"
     ]
    }
   ],
   "source": [
    "!pip install -U opencv-python"
   ]
  },
  {
   "cell_type": "code",
   "execution_count": 3,
   "metadata": {
    "executionInfo": {
     "elapsed": 14,
     "status": "ok",
     "timestamp": 1628242244916,
     "user": {
      "displayName": "Дмитрий Куценко",
      "photoUrl": "",
      "userId": "04146547092238065676"
     },
     "user_tz": -300
    },
    "id": "stwwufBXCglz"
   },
   "outputs": [],
   "source": [
    "# Image Reading & Preprocessing\n",
    "from PIL import Image, ImageDraw\n",
    "import cv2\n",
    "import matplotlib.pyplot as plt\n",
    "import numpy as np\n",
    "\n",
    "# Misc.\n",
    "import pandas as pd\n",
    "from tqdm.notebook import tqdm\n",
    "import os\n",
    "from natsort import natsorted\n",
    "from google.colab.patches import cv2_imshow"
   ]
  },
  {
   "cell_type": "markdown",
   "metadata": {
    "id": "iVgpfJwdDMPx"
   },
   "source": [
    "# Image Preprocessing\n",
    "\n",
    "In this section we are going to learn some opencv functions which can help us detecting the starship body!"
   ]
  },
  {
   "cell_type": "code",
   "execution_count": 55,
   "metadata": {
    "colab": {
     "base_uri": "https://localhost:8080/",
     "height": 1000,
     "output_embedded_package_id": "1TeVt3U9rfTjKHtvEDISnDYEUuOz2UVEg"
    },
    "executionInfo": {
     "elapsed": 32103,
     "status": "ok",
     "timestamp": 1628243893160,
     "user": {
      "displayName": "Дмитрий Куценко",
      "photoUrl": "",
      "userId": "04146547092238065676"
     },
     "user_tz": -300
    },
    "id": "RNWUih14GRoM",
    "outputId": "2fb73dbc-1d1f-4458-9e8d-6d2bbf84f2c8"
   },
   "outputs": [
    {
     "data": {
      "text/plain": [
       "Output hidden; open in https://colab.research.google.com to view."
      ]
     },
     "metadata": {},
     "output_type": "display_data"
    }
   ],
   "source": [
    "for i in range(300):\n",
    "    image = cv2.imread(f'/content/images/{i}.jpg')\n",
    "    image = cv2.GaussianBlur(image, (5, 5), None)\n",
    "    image = image[50:-50,50:-50]\n",
    "    image = cv2.normalize(image / 255, None, 0, 255, cv2.NORM_MINMAX).astype(np.uint8)\n",
    "    gray = cv2.cvtColor(image, cv2.COLOR_BGR2GRAY)\n",
    "\n",
    "    canny = cv2.Canny(gray, 80, 90)\n",
    "    x, y, width, height = 0, 0, 0, 0\n",
    "    for j in range(len(canny)):\n",
    "        if np.any(canny[j]):\n",
    "            y = j\n",
    "            break\n",
    "    for j in range(len(canny[0])):\n",
    "        if np.any(canny[:, j]):\n",
    "            x = j\n",
    "            break\n",
    "    for j in range(len(canny)-1, 0, -1):\n",
    "        if np.any(canny[j]):\n",
    "            height = j - y\n",
    "            break\n",
    "\n",
    "    for j in range(len(canny[0])-1, 0, -1):\n",
    "        if np.any(canny[:, j]):\n",
    "            width = j - x\n",
    "            break\n",
    "    x += 50\n",
    "    y += 50\n",
    "\n",
    "    if np.mean(gray) < 100 and height / width > 3:\n",
    "        height -= int(height * 0.35)\n",
    "    elif np.mean(gray) < 100 and width / height > 3:\n",
    "        width -= int(width * 0.3)\n",
    "    elif np.mean(gray) < 100 and width / height > 2:\n",
    "        width -= int(width * 0.15)\n",
    "\n",
    "    image = cv2.imread(f'/content/images/{i}.jpg')\n",
    "    cv2.rectangle(image, (x, y), (x+width, y+height), (0, 0, 255), 2)\n",
    "    cv2_imshow(image)\n",
    "    cv2_imshow(canny)"
   ]
  },
  {
   "cell_type": "code",
   "execution_count": 56,
   "metadata": {
    "colab": {
     "base_uri": "https://localhost:8080/"
    },
    "executionInfo": {
     "elapsed": 319,
     "status": "ok",
     "timestamp": 1628244172595,
     "user": {
      "displayName": "Дмитрий Куценко",
      "photoUrl": "",
      "userId": "04146547092238065676"
     },
     "user_tz": -300
    },
    "id": "IVXc-ZD7JiHD",
    "outputId": "5cf0b0cd-5ca9-4909-f02e-6db58ea2e852"
   },
   "outputs": [
    {
     "name": "stdout",
     "output_type": "stream",
     "text": [
      "10000\n"
     ]
    }
   ],
   "source": [
    "# Getting all the testing images \n",
    "test_imgs = natsorted(os.listdir(\"images\"))\n",
    "print(len(test_imgs))"
   ]
  },
  {
   "cell_type": "code",
   "execution_count": 57,
   "metadata": {
    "executionInfo": {
     "elapsed": 4,
     "status": "ok",
     "timestamp": 1628244173583,
     "user": {
      "displayName": "Дмитрий Куценко",
      "photoUrl": "",
      "userId": "04146547092238065676"
     },
     "user_tz": -300
    },
    "id": "PqSKyqJgO8wQ"
   },
   "outputs": [],
   "source": [
    "# Function to generate the bounding boxes\n",
    "def gen_bounding_boxes(image):\n",
    "    image = cv2.GaussianBlur(image, (5, 5), None)\n",
    "    image = image[50:-50,50:-50]\n",
    "    image = cv2.normalize(image / 255, None, 0, 255, cv2.NORM_MINMAX).astype(np.uint8)\n",
    "    gray = cv2.cvtColor(image, cv2.COLOR_BGR2GRAY)\n",
    "    canny = cv2.Canny(gray, 80, 90)\n",
    "    x, y, width, height = 0, 0, 0, 0\n",
    "    for j in range(len(canny)):\n",
    "        if np.any(canny[j]):\n",
    "            y = j\n",
    "            break\n",
    "    for j in range(len(canny[0])):\n",
    "        if np.any(canny[:, j]):\n",
    "            x = j\n",
    "            break\n",
    "    for j in range(len(canny)-1, 0, -1):\n",
    "        if np.any(canny[j]):\n",
    "            height = j - y\n",
    "            break\n",
    "\n",
    "    for j in range(len(canny[0])-1, 0, -1):\n",
    "        if np.any(canny[:, j]):\n",
    "            width = j - x\n",
    "            break\n",
    "    x += 50\n",
    "    y += 50\n",
    "\n",
    "    if np.mean(gray) < 100 and height / width > 3:\n",
    "        height -= int(height * 0.35)\n",
    "    elif np.mean(gray) < 100 and width / height > 3:\n",
    "        width -= int(width * 0.3)\n",
    "    elif np.mean(gray) < 100 and width / height > 2:\n",
    "        width -= int(width * 0.15)\n",
    "    \n",
    "    return x, y, width, height"
   ]
  },
  {
   "cell_type": "code",
   "execution_count": 58,
   "metadata": {
    "colab": {
     "base_uri": "https://localhost:8080/",
     "height": 49,
     "referenced_widgets": [
      "5f54fd941ade425e9d2c84a50f5f9965",
      "08120f8bc6124bd38a82a84775c1a21f",
      "dde5b44200f34cbd830c41bbc09ce27e",
      "089c90674ad44fc39f2f5129d43451de",
      "3ff6444c9cb640f5a72362fd87f38c39",
      "5c886a656bf04a26b52461a70e5e5d9c",
      "bea04d63135d4702bff88394359a3cc6",
      "55df4317685542cc88d0a122ae0abeb7",
      "d2877fa076ab427c8fecbd0670a79842",
      "35b38a4d87014b0eb9fa1c674ba0a7ad",
      "cb3b646ae76745a985d11f585ba6b223"
     ]
    },
    "executionInfo": {
     "elapsed": 116988,
     "status": "ok",
     "timestamp": 1628244290961,
     "user": {
      "displayName": "Дмитрий Куценко",
      "photoUrl": "",
      "userId": "04146547092238065676"
     },
     "user_tz": -300
    },
    "id": "v2z2SqaBPi2-",
    "outputId": "4a762fbe-e4fd-469b-8586-1279464c23fa"
   },
   "outputs": [
    {
     "data": {
      "application/vnd.jupyter.widget-view+json": {
       "model_id": "5f54fd941ade425e9d2c84a50f5f9965",
       "version_major": 2,
       "version_minor": 0
      },
      "text/plain": [
       "  0%|          | 0/10000 [00:00<?, ?it/s]"
      ]
     },
     "metadata": {
      "tags": []
     },
     "output_type": "display_data"
    }
   ],
   "source": [
    "bboxes = []\n",
    "image_ids = []\n",
    "\n",
    "# Ground through each test image\n",
    "for img_name in tqdm(test_imgs):\n",
    "\n",
    "  # Reading the test image\n",
    "  img = cv2.imread(os.path.join(\"images\", img_name))\n",
    "\n",
    "  # Generating the bounding boxes\n",
    "  x,y,w,h = gen_bounding_boxes(img)\n",
    "\n",
    "  # Adding the boundong boxes and image id\n",
    "  bboxes.append([x,y,w,h])\n",
    "  image_ids.append(int(img_name.split(\".\")[0]))"
   ]
  },
  {
   "cell_type": "code",
   "execution_count": 59,
   "metadata": {
    "colab": {
     "base_uri": "https://localhost:8080/",
     "height": 419
    },
    "executionInfo": {
     "elapsed": 26,
     "status": "ok",
     "timestamp": 1628244290962,
     "user": {
      "displayName": "Дмитрий Куценко",
      "photoUrl": "",
      "userId": "04146547092238065676"
     },
     "user_tz": -300
    },
    "id": "J5Wt9BD5PyVG",
    "outputId": "b475f43f-f0ac-4741-9508-134345c84bcd"
   },
   "outputs": [
    {
     "data": {
      "text/html": [
       "<div>\n",
       "<style scoped>\n",
       "    .dataframe tbody tr th:only-of-type {\n",
       "        vertical-align: middle;\n",
       "    }\n",
       "\n",
       "    .dataframe tbody tr th {\n",
       "        vertical-align: top;\n",
       "    }\n",
       "\n",
       "    .dataframe thead th {\n",
       "        text-align: right;\n",
       "    }\n",
       "</style>\n",
       "<table border=\"1\" class=\"dataframe\">\n",
       "  <thead>\n",
       "    <tr style=\"text-align: right;\">\n",
       "      <th></th>\n",
       "      <th>ImageID</th>\n",
       "      <th>bbox</th>\n",
       "    </tr>\n",
       "  </thead>\n",
       "  <tbody>\n",
       "    <tr>\n",
       "      <th>0</th>\n",
       "      <td>0</td>\n",
       "      <td>[166, 215, 20, 99]</td>\n",
       "    </tr>\n",
       "    <tr>\n",
       "      <th>1</th>\n",
       "      <td>1</td>\n",
       "      <td>[274, 229, 89, 40]</td>\n",
       "    </tr>\n",
       "    <tr>\n",
       "      <th>2</th>\n",
       "      <td>2</td>\n",
       "      <td>[247, 217, 31, 98]</td>\n",
       "    </tr>\n",
       "    <tr>\n",
       "      <th>3</th>\n",
       "      <td>3</td>\n",
       "      <td>[204, 243, 117, 32]</td>\n",
       "    </tr>\n",
       "    <tr>\n",
       "      <th>4</th>\n",
       "      <td>4</td>\n",
       "      <td>[321, 214, 36, 106]</td>\n",
       "    </tr>\n",
       "    <tr>\n",
       "      <th>...</th>\n",
       "      <td>...</td>\n",
       "      <td>...</td>\n",
       "    </tr>\n",
       "    <tr>\n",
       "      <th>9995</th>\n",
       "      <td>9995</td>\n",
       "      <td>[191, 240, 137, 26]</td>\n",
       "    </tr>\n",
       "    <tr>\n",
       "      <th>9996</th>\n",
       "      <td>9996</td>\n",
       "      <td>[181, 245, 70, 20]</td>\n",
       "    </tr>\n",
       "    <tr>\n",
       "      <th>9997</th>\n",
       "      <td>9997</td>\n",
       "      <td>[96, 207, 208, 80]</td>\n",
       "    </tr>\n",
       "    <tr>\n",
       "      <th>9998</th>\n",
       "      <td>9998</td>\n",
       "      <td>[157, 214, 24, 102]</td>\n",
       "    </tr>\n",
       "    <tr>\n",
       "      <th>9999</th>\n",
       "      <td>9999</td>\n",
       "      <td>[164, 200, 25, 127]</td>\n",
       "    </tr>\n",
       "  </tbody>\n",
       "</table>\n",
       "<p>10000 rows × 2 columns</p>\n",
       "</div>"
      ],
      "text/plain": [
       "      ImageID                 bbox\n",
       "0           0   [166, 215, 20, 99]\n",
       "1           1   [274, 229, 89, 40]\n",
       "2           2   [247, 217, 31, 98]\n",
       "3           3  [204, 243, 117, 32]\n",
       "4           4  [321, 214, 36, 106]\n",
       "...       ...                  ...\n",
       "9995     9995  [191, 240, 137, 26]\n",
       "9996     9996   [181, 245, 70, 20]\n",
       "9997     9997   [96, 207, 208, 80]\n",
       "9998     9998  [157, 214, 24, 102]\n",
       "9999     9999  [164, 200, 25, 127]\n",
       "\n",
       "[10000 rows x 2 columns]"
      ]
     },
     "execution_count": 59,
     "metadata": {
      "tags": []
     },
     "output_type": "execute_result"
    }
   ],
   "source": [
    "# Adding the image id and bounding boxes to a dataframe\n",
    "df = pd.DataFrame({\"ImageID\":image_ids, \"bbox\":bboxes})\n",
    "df = df.sort_values(\"ImageID\").reset_index(drop=True)\n",
    "df"
   ]
  },
  {
   "cell_type": "code",
   "execution_count": 60,
   "metadata": {
    "executionInfo": {
     "elapsed": 387,
     "status": "ok",
     "timestamp": 1628244291340,
     "user": {
      "displayName": "Дмитрий Куценко",
      "photoUrl": "",
      "userId": "04146547092238065676"
     },
     "user_tz": -300
    },
    "id": "_KUaEntFQCrp"
   },
   "outputs": [],
   "source": [
    "!rm -rf assets\n",
    "!mkdir assets\n",
    "\n",
    "df.to_csv(os.path.join(\"assets\", \"submission.csv\"), index=False)"
   ]
  },
  {
   "cell_type": "markdown",
   "metadata": {
    "id": "3YN49CG4caU4"
   },
   "source": [
    "**Note : Please make sure that there should be filename `submission.csv` in `assets` folder before submitting it**"
   ]
  },
  {
   "cell_type": "markdown",
   "metadata": {
    "id": "Fk5bxI4BQQdP"
   },
   "source": [
    "## Uploading the Results"
   ]
  },
  {
   "cell_type": "code",
   "execution_count": null,
   "metadata": {
    "id": "uDlji1fXQinE"
   },
   "outputs": [],
   "source": [
    "!aicrowd notebook submit -c starship-detection -a assets --no-verify"
   ]
  }
 ],
 "metadata": {
  "colab": {
   "collapsed_sections": [],
   "name": "first_starship_detection.ipynb",
   "provenance": [
    {
     "file_id": "https://gist.github.com/aicrowd-bot/2948838cb7a8e41967f0eeb79af3aa19",
     "timestamp": 1628095443645
    }
   ]
  },
  "kernelspec": {
   "display_name": "Python 3",
   "language": "python",
   "name": "python3"
  },
  "language_info": {
   "codemirror_mode": {
    "name": "ipython",
    "version": 3
   },
   "file_extension": ".py",
   "mimetype": "text/x-python",
   "name": "python",
   "nbconvert_exporter": "python",
   "pygments_lexer": "ipython3",
   "version": "3.8.5"
  },
  "widgets": {
   "application/vnd.jupyter.widget-state+json": {
    "08120f8bc6124bd38a82a84775c1a21f": {
     "model_module": "@jupyter-widgets/base",
     "model_name": "LayoutModel",
     "state": {
      "_model_module": "@jupyter-widgets/base",
      "_model_module_version": "1.2.0",
      "_model_name": "LayoutModel",
      "_view_count": null,
      "_view_module": "@jupyter-widgets/base",
      "_view_module_version": "1.2.0",
      "_view_name": "LayoutView",
      "align_content": null,
      "align_items": null,
      "align_self": null,
      "border": null,
      "bottom": null,
      "display": null,
      "flex": null,
      "flex_flow": null,
      "grid_area": null,
      "grid_auto_columns": null,
      "grid_auto_flow": null,
      "grid_auto_rows": null,
      "grid_column": null,
      "grid_gap": null,
      "grid_row": null,
      "grid_template_areas": null,
      "grid_template_columns": null,
      "grid_template_rows": null,
      "height": null,
      "justify_content": null,
      "justify_items": null,
      "left": null,
      "margin": null,
      "max_height": null,
      "max_width": null,
      "min_height": null,
      "min_width": null,
      "object_fit": null,
      "object_position": null,
      "order": null,
      "overflow": null,
      "overflow_x": null,
      "overflow_y": null,
      "padding": null,
      "right": null,
      "top": null,
      "visibility": null,
      "width": null
     }
    },
    "089c90674ad44fc39f2f5129d43451de": {
     "model_module": "@jupyter-widgets/controls",
     "model_name": "FloatProgressModel",
     "state": {
      "_dom_classes": [],
      "_model_module": "@jupyter-widgets/controls",
      "_model_module_version": "1.5.0",
      "_model_name": "FloatProgressModel",
      "_view_count": null,
      "_view_module": "@jupyter-widgets/controls",
      "_view_module_version": "1.5.0",
      "_view_name": "ProgressView",
      "bar_style": "success",
      "description": "",
      "description_tooltip": null,
      "layout": "IPY_MODEL_d2877fa076ab427c8fecbd0670a79842",
      "max": 10000,
      "min": 0,
      "orientation": "horizontal",
      "style": "IPY_MODEL_55df4317685542cc88d0a122ae0abeb7",
      "value": 10000
     }
    },
    "1f88f06b911145c5837e4ed3744ba4ad": {
     "model_module": "@jupyter-widgets/controls",
     "model_name": "HTMLModel",
     "state": {
      "_dom_classes": [],
      "_model_module": "@jupyter-widgets/controls",
      "_model_module_version": "1.5.0",
      "_model_name": "HTMLModel",
      "_view_count": null,
      "_view_module": "@jupyter-widgets/controls",
      "_view_module_version": "1.5.0",
      "_view_name": "HTMLView",
      "description": "",
      "description_tooltip": null,
      "layout": "IPY_MODEL_5edaa583f4a14607bd2ed7ea65b3170e",
      "placeholder": "​",
      "style": "IPY_MODEL_e9cb466f7bc64879b8c3d21f2b19645e",
      "value": "data.zip: 100%"
     }
    },
    "35b38a4d87014b0eb9fa1c674ba0a7ad": {
     "model_module": "@jupyter-widgets/controls",
     "model_name": "DescriptionStyleModel",
     "state": {
      "_model_module": "@jupyter-widgets/controls",
      "_model_module_version": "1.5.0",
      "_model_name": "DescriptionStyleModel",
      "_view_count": null,
      "_view_module": "@jupyter-widgets/base",
      "_view_module_version": "1.2.0",
      "_view_name": "StyleView",
      "description_width": ""
     }
    },
    "3e178cb4ff9345ddb0b786d237d8546d": {
     "model_module": "@jupyter-widgets/controls",
     "model_name": "FloatProgressModel",
     "state": {
      "_dom_classes": [],
      "_model_module": "@jupyter-widgets/controls",
      "_model_module_version": "1.5.0",
      "_model_name": "FloatProgressModel",
      "_view_count": null,
      "_view_module": "@jupyter-widgets/controls",
      "_view_module_version": "1.5.0",
      "_view_name": "ProgressView",
      "bar_style": "success",
      "description": "",
      "description_tooltip": null,
      "layout": "IPY_MODEL_5003678f617f4796a5c9a9cd81cf652e",
      "max": 34057809,
      "min": 0,
      "orientation": "horizontal",
      "style": "IPY_MODEL_c5d62b7cf9434336a984353ce40a0b34",
      "value": 34057809
     }
    },
    "3ff6444c9cb640f5a72362fd87f38c39": {
     "model_module": "@jupyter-widgets/controls",
     "model_name": "HTMLModel",
     "state": {
      "_dom_classes": [],
      "_model_module": "@jupyter-widgets/controls",
      "_model_module_version": "1.5.0",
      "_model_name": "HTMLModel",
      "_view_count": null,
      "_view_module": "@jupyter-widgets/controls",
      "_view_module_version": "1.5.0",
      "_view_name": "HTMLView",
      "description": "",
      "description_tooltip": null,
      "layout": "IPY_MODEL_cb3b646ae76745a985d11f585ba6b223",
      "placeholder": "​",
      "style": "IPY_MODEL_35b38a4d87014b0eb9fa1c674ba0a7ad",
      "value": " 10000/10000 [01:56&lt;00:00, 86.62it/s]"
     }
    },
    "5003678f617f4796a5c9a9cd81cf652e": {
     "model_module": "@jupyter-widgets/base",
     "model_name": "LayoutModel",
     "state": {
      "_model_module": "@jupyter-widgets/base",
      "_model_module_version": "1.2.0",
      "_model_name": "LayoutModel",
      "_view_count": null,
      "_view_module": "@jupyter-widgets/base",
      "_view_module_version": "1.2.0",
      "_view_name": "LayoutView",
      "align_content": null,
      "align_items": null,
      "align_self": null,
      "border": null,
      "bottom": null,
      "display": null,
      "flex": null,
      "flex_flow": null,
      "grid_area": null,
      "grid_auto_columns": null,
      "grid_auto_flow": null,
      "grid_auto_rows": null,
      "grid_column": null,
      "grid_gap": null,
      "grid_row": null,
      "grid_template_areas": null,
      "grid_template_columns": null,
      "grid_template_rows": null,
      "height": null,
      "justify_content": null,
      "justify_items": null,
      "left": null,
      "margin": null,
      "max_height": null,
      "max_width": null,
      "min_height": null,
      "min_width": null,
      "object_fit": null,
      "object_position": null,
      "order": null,
      "overflow": null,
      "overflow_x": null,
      "overflow_y": null,
      "padding": null,
      "right": null,
      "top": null,
      "visibility": null,
      "width": null
     }
    },
    "55df4317685542cc88d0a122ae0abeb7": {
     "model_module": "@jupyter-widgets/controls",
     "model_name": "ProgressStyleModel",
     "state": {
      "_model_module": "@jupyter-widgets/controls",
      "_model_module_version": "1.5.0",
      "_model_name": "ProgressStyleModel",
      "_view_count": null,
      "_view_module": "@jupyter-widgets/base",
      "_view_module_version": "1.2.0",
      "_view_name": "StyleView",
      "bar_color": null,
      "description_width": ""
     }
    },
    "5c886a656bf04a26b52461a70e5e5d9c": {
     "model_module": "@jupyter-widgets/controls",
     "model_name": "DescriptionStyleModel",
     "state": {
      "_model_module": "@jupyter-widgets/controls",
      "_model_module_version": "1.5.0",
      "_model_name": "DescriptionStyleModel",
      "_view_count": null,
      "_view_module": "@jupyter-widgets/base",
      "_view_module_version": "1.2.0",
      "_view_name": "StyleView",
      "description_width": ""
     }
    },
    "5edaa583f4a14607bd2ed7ea65b3170e": {
     "model_module": "@jupyter-widgets/base",
     "model_name": "LayoutModel",
     "state": {
      "_model_module": "@jupyter-widgets/base",
      "_model_module_version": "1.2.0",
      "_model_name": "LayoutModel",
      "_view_count": null,
      "_view_module": "@jupyter-widgets/base",
      "_view_module_version": "1.2.0",
      "_view_name": "LayoutView",
      "align_content": null,
      "align_items": null,
      "align_self": null,
      "border": null,
      "bottom": null,
      "display": null,
      "flex": null,
      "flex_flow": null,
      "grid_area": null,
      "grid_auto_columns": null,
      "grid_auto_flow": null,
      "grid_auto_rows": null,
      "grid_column": null,
      "grid_gap": null,
      "grid_row": null,
      "grid_template_areas": null,
      "grid_template_columns": null,
      "grid_template_rows": null,
      "height": null,
      "justify_content": null,
      "justify_items": null,
      "left": null,
      "margin": null,
      "max_height": null,
      "max_width": null,
      "min_height": null,
      "min_width": null,
      "object_fit": null,
      "object_position": null,
      "order": null,
      "overflow": null,
      "overflow_x": null,
      "overflow_y": null,
      "padding": null,
      "right": null,
      "top": null,
      "visibility": null,
      "width": null
     }
    },
    "5f54fd941ade425e9d2c84a50f5f9965": {
     "model_module": "@jupyter-widgets/controls",
     "model_name": "HBoxModel",
     "state": {
      "_dom_classes": [],
      "_model_module": "@jupyter-widgets/controls",
      "_model_module_version": "1.5.0",
      "_model_name": "HBoxModel",
      "_view_count": null,
      "_view_module": "@jupyter-widgets/controls",
      "_view_module_version": "1.5.0",
      "_view_name": "HBoxView",
      "box_style": "",
      "children": [
       "IPY_MODEL_dde5b44200f34cbd830c41bbc09ce27e",
       "IPY_MODEL_089c90674ad44fc39f2f5129d43451de",
       "IPY_MODEL_3ff6444c9cb640f5a72362fd87f38c39"
      ],
      "layout": "IPY_MODEL_08120f8bc6124bd38a82a84775c1a21f"
     }
    },
    "b462b408698c42fd9c0585f3c69e4fa9": {
     "model_module": "@jupyter-widgets/base",
     "model_name": "LayoutModel",
     "state": {
      "_model_module": "@jupyter-widgets/base",
      "_model_module_version": "1.2.0",
      "_model_name": "LayoutModel",
      "_view_count": null,
      "_view_module": "@jupyter-widgets/base",
      "_view_module_version": "1.2.0",
      "_view_name": "LayoutView",
      "align_content": null,
      "align_items": null,
      "align_self": null,
      "border": null,
      "bottom": null,
      "display": null,
      "flex": null,
      "flex_flow": null,
      "grid_area": null,
      "grid_auto_columns": null,
      "grid_auto_flow": null,
      "grid_auto_rows": null,
      "grid_column": null,
      "grid_gap": null,
      "grid_row": null,
      "grid_template_areas": null,
      "grid_template_columns": null,
      "grid_template_rows": null,
      "height": null,
      "justify_content": null,
      "justify_items": null,
      "left": null,
      "margin": null,
      "max_height": null,
      "max_width": null,
      "min_height": null,
      "min_width": null,
      "object_fit": null,
      "object_position": null,
      "order": null,
      "overflow": null,
      "overflow_x": null,
      "overflow_y": null,
      "padding": null,
      "right": null,
      "top": null,
      "visibility": null,
      "width": null
     }
    },
    "bea04d63135d4702bff88394359a3cc6": {
     "model_module": "@jupyter-widgets/base",
     "model_name": "LayoutModel",
     "state": {
      "_model_module": "@jupyter-widgets/base",
      "_model_module_version": "1.2.0",
      "_model_name": "LayoutModel",
      "_view_count": null,
      "_view_module": "@jupyter-widgets/base",
      "_view_module_version": "1.2.0",
      "_view_name": "LayoutView",
      "align_content": null,
      "align_items": null,
      "align_self": null,
      "border": null,
      "bottom": null,
      "display": null,
      "flex": null,
      "flex_flow": null,
      "grid_area": null,
      "grid_auto_columns": null,
      "grid_auto_flow": null,
      "grid_auto_rows": null,
      "grid_column": null,
      "grid_gap": null,
      "grid_row": null,
      "grid_template_areas": null,
      "grid_template_columns": null,
      "grid_template_rows": null,
      "height": null,
      "justify_content": null,
      "justify_items": null,
      "left": null,
      "margin": null,
      "max_height": null,
      "max_width": null,
      "min_height": null,
      "min_width": null,
      "object_fit": null,
      "object_position": null,
      "order": null,
      "overflow": null,
      "overflow_x": null,
      "overflow_y": null,
      "padding": null,
      "right": null,
      "top": null,
      "visibility": null,
      "width": null
     }
    },
    "c5d62b7cf9434336a984353ce40a0b34": {
     "model_module": "@jupyter-widgets/controls",
     "model_name": "ProgressStyleModel",
     "state": {
      "_model_module": "@jupyter-widgets/controls",
      "_model_module_version": "1.5.0",
      "_model_name": "ProgressStyleModel",
      "_view_count": null,
      "_view_module": "@jupyter-widgets/base",
      "_view_module_version": "1.2.0",
      "_view_name": "StyleView",
      "bar_color": null,
      "description_width": ""
     }
    },
    "cb3b646ae76745a985d11f585ba6b223": {
     "model_module": "@jupyter-widgets/base",
     "model_name": "LayoutModel",
     "state": {
      "_model_module": "@jupyter-widgets/base",
      "_model_module_version": "1.2.0",
      "_model_name": "LayoutModel",
      "_view_count": null,
      "_view_module": "@jupyter-widgets/base",
      "_view_module_version": "1.2.0",
      "_view_name": "LayoutView",
      "align_content": null,
      "align_items": null,
      "align_self": null,
      "border": null,
      "bottom": null,
      "display": null,
      "flex": null,
      "flex_flow": null,
      "grid_area": null,
      "grid_auto_columns": null,
      "grid_auto_flow": null,
      "grid_auto_rows": null,
      "grid_column": null,
      "grid_gap": null,
      "grid_row": null,
      "grid_template_areas": null,
      "grid_template_columns": null,
      "grid_template_rows": null,
      "height": null,
      "justify_content": null,
      "justify_items": null,
      "left": null,
      "margin": null,
      "max_height": null,
      "max_width": null,
      "min_height": null,
      "min_width": null,
      "object_fit": null,
      "object_position": null,
      "order": null,
      "overflow": null,
      "overflow_x": null,
      "overflow_y": null,
      "padding": null,
      "right": null,
      "top": null,
      "visibility": null,
      "width": null
     }
    },
    "d2877fa076ab427c8fecbd0670a79842": {
     "model_module": "@jupyter-widgets/base",
     "model_name": "LayoutModel",
     "state": {
      "_model_module": "@jupyter-widgets/base",
      "_model_module_version": "1.2.0",
      "_model_name": "LayoutModel",
      "_view_count": null,
      "_view_module": "@jupyter-widgets/base",
      "_view_module_version": "1.2.0",
      "_view_name": "LayoutView",
      "align_content": null,
      "align_items": null,
      "align_self": null,
      "border": null,
      "bottom": null,
      "display": null,
      "flex": null,
      "flex_flow": null,
      "grid_area": null,
      "grid_auto_columns": null,
      "grid_auto_flow": null,
      "grid_auto_rows": null,
      "grid_column": null,
      "grid_gap": null,
      "grid_row": null,
      "grid_template_areas": null,
      "grid_template_columns": null,
      "grid_template_rows": null,
      "height": null,
      "justify_content": null,
      "justify_items": null,
      "left": null,
      "margin": null,
      "max_height": null,
      "max_width": null,
      "min_height": null,
      "min_width": null,
      "object_fit": null,
      "object_position": null,
      "order": null,
      "overflow": null,
      "overflow_x": null,
      "overflow_y": null,
      "padding": null,
      "right": null,
      "top": null,
      "visibility": null,
      "width": null
     }
    },
    "d9d5aba1ea3b485e9e941e0e93628994": {
     "model_module": "@jupyter-widgets/base",
     "model_name": "LayoutModel",
     "state": {
      "_model_module": "@jupyter-widgets/base",
      "_model_module_version": "1.2.0",
      "_model_name": "LayoutModel",
      "_view_count": null,
      "_view_module": "@jupyter-widgets/base",
      "_view_module_version": "1.2.0",
      "_view_name": "LayoutView",
      "align_content": null,
      "align_items": null,
      "align_self": null,
      "border": null,
      "bottom": null,
      "display": null,
      "flex": null,
      "flex_flow": null,
      "grid_area": null,
      "grid_auto_columns": null,
      "grid_auto_flow": null,
      "grid_auto_rows": null,
      "grid_column": null,
      "grid_gap": null,
      "grid_row": null,
      "grid_template_areas": null,
      "grid_template_columns": null,
      "grid_template_rows": null,
      "height": null,
      "justify_content": null,
      "justify_items": null,
      "left": null,
      "margin": null,
      "max_height": null,
      "max_width": null,
      "min_height": null,
      "min_width": null,
      "object_fit": null,
      "object_position": null,
      "order": null,
      "overflow": null,
      "overflow_x": null,
      "overflow_y": null,
      "padding": null,
      "right": null,
      "top": null,
      "visibility": null,
      "width": null
     }
    },
    "dde5b44200f34cbd830c41bbc09ce27e": {
     "model_module": "@jupyter-widgets/controls",
     "model_name": "HTMLModel",
     "state": {
      "_dom_classes": [],
      "_model_module": "@jupyter-widgets/controls",
      "_model_module_version": "1.5.0",
      "_model_name": "HTMLModel",
      "_view_count": null,
      "_view_module": "@jupyter-widgets/controls",
      "_view_module_version": "1.5.0",
      "_view_name": "HTMLView",
      "description": "",
      "description_tooltip": null,
      "layout": "IPY_MODEL_bea04d63135d4702bff88394359a3cc6",
      "placeholder": "​",
      "style": "IPY_MODEL_5c886a656bf04a26b52461a70e5e5d9c",
      "value": "100%"
     }
    },
    "e9cb466f7bc64879b8c3d21f2b19645e": {
     "model_module": "@jupyter-widgets/controls",
     "model_name": "DescriptionStyleModel",
     "state": {
      "_model_module": "@jupyter-widgets/controls",
      "_model_module_version": "1.5.0",
      "_model_name": "DescriptionStyleModel",
      "_view_count": null,
      "_view_module": "@jupyter-widgets/base",
      "_view_module_version": "1.2.0",
      "_view_name": "StyleView",
      "description_width": ""
     }
    },
    "ef4dfd672cbd4be7b513a11b7cdcd882": {
     "model_module": "@jupyter-widgets/controls",
     "model_name": "HTMLModel",
     "state": {
      "_dom_classes": [],
      "_model_module": "@jupyter-widgets/controls",
      "_model_module_version": "1.5.0",
      "_model_name": "HTMLModel",
      "_view_count": null,
      "_view_module": "@jupyter-widgets/controls",
      "_view_module_version": "1.5.0",
      "_view_name": "HTMLView",
      "description": "",
      "description_tooltip": null,
      "layout": "IPY_MODEL_b462b408698c42fd9c0585f3c69e4fa9",
      "placeholder": "​",
      "style": "IPY_MODEL_f9fe1cb164f44ee88b309bfc99c028ba",
      "value": " 34.1M/34.1M [00:04&lt;00:00, 7.38MB/s]"
     }
    },
    "f9fe1cb164f44ee88b309bfc99c028ba": {
     "model_module": "@jupyter-widgets/controls",
     "model_name": "DescriptionStyleModel",
     "state": {
      "_model_module": "@jupyter-widgets/controls",
      "_model_module_version": "1.5.0",
      "_model_name": "DescriptionStyleModel",
      "_view_count": null,
      "_view_module": "@jupyter-widgets/base",
      "_view_module_version": "1.2.0",
      "_view_name": "StyleView",
      "description_width": ""
     }
    },
    "ffd419ba8e89412590fa28e7e401d5fa": {
     "model_module": "@jupyter-widgets/controls",
     "model_name": "HBoxModel",
     "state": {
      "_dom_classes": [],
      "_model_module": "@jupyter-widgets/controls",
      "_model_module_version": "1.5.0",
      "_model_name": "HBoxModel",
      "_view_count": null,
      "_view_module": "@jupyter-widgets/controls",
      "_view_module_version": "1.5.0",
      "_view_name": "HBoxView",
      "box_style": "",
      "children": [
       "IPY_MODEL_1f88f06b911145c5837e4ed3744ba4ad",
       "IPY_MODEL_3e178cb4ff9345ddb0b786d237d8546d",
       "IPY_MODEL_ef4dfd672cbd4be7b513a11b7cdcd882"
      ],
      "layout": "IPY_MODEL_d9d5aba1ea3b485e9e941e0e93628994"
     }
    }
   }
  }
 },
 "nbformat": 4,
 "nbformat_minor": 1
}
